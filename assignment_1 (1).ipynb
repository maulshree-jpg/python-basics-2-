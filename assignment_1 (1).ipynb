{
  "nbformat": 4,
  "nbformat_minor": 0,
  "metadata": {
    "colab": {
      "provenance": []
    },
    "kernelspec": {
      "name": "python3",
      "display_name": "Python 3"
    },
    "language_info": {
      "name": "python"
    }
  },
  "cells": [
    {
      "cell_type": "markdown",
      "source": [
        "**ASSIGNMENT**"
      ],
      "metadata": {
        "id": "JEMcprxmBuVi"
      }
    },
    {
      "cell_type": "markdown",
      "source": [
        " 1 -  What is Python, and why is it popular?\n",
        "   \n",
        "  -> Python is a programming language which is eassy to understand and write, which makes it popular among the developers and programmers. Python has a large and active community of developers , an extensive standard liberary and third party packages for various domains.\n",
        "  \n",
        "  2 -  What is an interpreter in Python?\n",
        "\n",
        "  -> An interpreter in python is a program that executes python code line by line. It translates the code into machine language so that computer can understands and run it.\n",
        "\n",
        "  3 -  What are pre-defined keywords in Python?\n",
        "\n",
        "  -> Prefined keywords in python are the reserved words in pyhton that have special meaning. they cannot be used as a variable. examples are - if, else, true , false, while , def etc.\n",
        "\n",
        "  4 -  Can keywords be used as variable name?\n",
        "\n",
        "  -> No, keywords cannot be used as a variable.\n",
        "\n",
        "  5 - What is mutability in Python?\n",
        "   \n",
        "   -> Mutability in python means to makes changes in an object. examples are list , dictionaries etc.\n",
        "\n",
        "   6 - Why are lists mutable, but tuples are immutable?\n",
        "\n",
        "   -> Lists are mutable beacuse we can make changes in their content. We can add , remove and modify. But in tuples we cannot do such changes , once they are created they cannot be changed.\n",
        "\n",
        "   7 -  What is the difference between “==” and “is” operators in Python?\n",
        "\n",
        "   -> The \"==\" operator checks if the values of two objects are equal, while \"is\" is an identity operator which checks whether the two variable refers to the same object in memory.\n",
        "\n",
        "   8 -  What are logical operators in Python?\n",
        "\n",
        "   -> Logical operator is used to combine the conditional statement and evaluates expresions based on their true value (true or false). Logical operators are and , or , not.\n",
        "\n",
        "   9 -  What are logical operators in Python?\n",
        "\n",
        "   -> type casting means to convert one data type to another. for example , converting integer into string.\n",
        "\n",
        "   10 -  What is the difference between implicit and explicit type casting?\n",
        "\n",
        "   -> Implicit typecasting means to automatically changing or converting one data type to another.\n",
        "   Explict data type means we have to make external changes to convert one data type to another.\n",
        "\n",
        "   11 -  What is the purpose of conditional statements in Python?\n",
        "\n",
        "   -> conditional statements in python are used to execute code based on evalution of one or more conditions.\n",
        "   conditional stetement in python are if , if else, elif, nested if etc.\n",
        "  \n",
        "  12 -  How does the elif statement work?\n",
        "\n",
        "  -> In elif statement we can add more conditions than if else . statement are checked one after the another and if the conditon is met the program will bw stop and gives output.\n",
        "\n",
        "  13 - What is the difference between for and while loop?\n",
        "\n",
        "   -> A \"for\" loop iterates over a sequence of iterable objects , while \"while \" loop executes the sentence until the condition is ture as soon as the condition became false , the interpreter comes out of while loop.\n",
        "\n",
        "   14 - Describe a scenario where a while loop is more suitable than a for loop?\n",
        "\n",
        "   -> A while loop is more suitable than a for loop when the number of iteration is not known."
      ],
      "metadata": {
        "id": "1-KYNRlWBx1J"
      }
    },
    {
      "cell_type": "markdown",
      "source": [
        "**PRACTICAL QUESTIONS**"
      ],
      "metadata": {
        "id": "thVXst7NSvL0"
      }
    },
    {
      "cell_type": "markdown",
      "source": [
        "ques1 . Write a Python program to print \"Hello, World!\""
      ],
      "metadata": {
        "id": "RgQJv2VTNEMY"
      }
    },
    {
      "cell_type": "code",
      "source": [
        "print(\"Hello ,World!\")"
      ],
      "metadata": {
        "colab": {
          "base_uri": "https://localhost:8080/"
        },
        "id": "iXJ_W-0wTIaZ",
        "outputId": "e9988724-9bab-4eb6-f3b6-897104149e00"
      },
      "execution_count": null,
      "outputs": [
        {
          "output_type": "stream",
          "name": "stdout",
          "text": [
            "Hello ,World!\n"
          ]
        }
      ]
    },
    {
      "cell_type": "markdown",
      "source": [
        "Q2. Write a Python program that displays your name and age"
      ],
      "metadata": {
        "id": "H_fT1AhGNLy7"
      }
    },
    {
      "cell_type": "code",
      "source": [
        "name = \"maulshree\"\n",
        "age = 20\n",
        "print(f\"my name is {name} and my age is {age}\")"
      ],
      "metadata": {
        "colab": {
          "base_uri": "https://localhost:8080/"
        },
        "id": "cxo9e-g9Teni",
        "outputId": "51dad677-90d0-4a99-be73-0d3c5044754a"
      },
      "execution_count": null,
      "outputs": [
        {
          "output_type": "stream",
          "name": "stdout",
          "text": [
            "my name is maulshree and my age is 20\n"
          ]
        }
      ]
    },
    {
      "cell_type": "markdown",
      "source": [
        "Q3. Write code to print all the pre-defined keywords in Python using the keyword library."
      ],
      "metadata": {
        "id": "dGjon6pzNUlE"
      }
    },
    {
      "cell_type": "code",
      "source": [
        "import keyword\n",
        "print(keyword.kwlist)"
      ],
      "metadata": {
        "colab": {
          "base_uri": "https://localhost:8080/"
        },
        "id": "oBFUUAcuT699",
        "outputId": "555ab5ee-5bcb-4d87-c292-58d854cbb1a5"
      },
      "execution_count": null,
      "outputs": [
        {
          "output_type": "stream",
          "name": "stdout",
          "text": [
            "['False', 'None', 'True', 'and', 'as', 'assert', 'async', 'await', 'break', 'class', 'continue', 'def', 'del', 'elif', 'else', 'except', 'finally', 'for', 'from', 'global', 'if', 'import', 'in', 'is', 'lambda', 'nonlocal', 'not', 'or', 'pass', 'raise', 'return', 'try', 'while', 'with', 'yield']\n"
          ]
        }
      ]
    },
    {
      "cell_type": "markdown",
      "source": [
        "Q4. Write a program that checks if a given word is a Python keyword.\n"
      ],
      "metadata": {
        "id": "TlsuriqvNZVZ"
      }
    },
    {
      "cell_type": "code",
      "source": [
        "import keyword\n",
        "words=[\"for\",\"in\",\"mohan\",\"mohit\",\"False\",\"elina\"]\n",
        "for i in range (len(words)):\n",
        "  if keyword.iskeyword(words[i]):\n",
        "    print(f\"{words[i]} is a keyword\")\n",
        "  else:\n",
        "    print(f\"{words[i]} is not a keyword\")"
      ],
      "metadata": {
        "colab": {
          "base_uri": "https://localhost:8080/"
        },
        "id": "NJqOQ5IqVeAh",
        "outputId": "7ccc450f-b03a-488a-dbc5-2605f0aef268"
      },
      "execution_count": null,
      "outputs": [
        {
          "output_type": "stream",
          "name": "stdout",
          "text": [
            "for is a keyword\n",
            "in is a keyword\n",
            "mohan is not a keyword\n",
            "mohit is not a keyword\n",
            "False is a keyword\n",
            "elina is not a keyword\n"
          ]
        }
      ]
    },
    {
      "cell_type": "markdown",
      "source": [
        "Q5. Create a list and tuple in Python, and demonstrate how attempting to change an element works differently for each."
      ],
      "metadata": {
        "id": "SXJHcMiaNp5x"
      }
    },
    {
      "cell_type": "code",
      "source": [
        "list_count= [ 1,2,\"hello\", \"soft\", 4]\n",
        "list_count[3]= \"world\"\n",
        "#list is mutable"
      ],
      "metadata": {
        "id": "MZzg9y43aXoj"
      },
      "execution_count": null,
      "outputs": []
    },
    {
      "cell_type": "code",
      "source": [
        "list_count"
      ],
      "metadata": {
        "colab": {
          "base_uri": "https://localhost:8080/"
        },
        "id": "yi5tE4m6a65M",
        "outputId": "81f69a0a-f844-4b2e-9d1f-55ac835cb5ca"
      },
      "execution_count": null,
      "outputs": [
        {
          "output_type": "execute_result",
          "data": {
            "text/plain": [
              "[1, 2, 'hello', 'world', 4]"
            ]
          },
          "metadata": {},
          "execution_count": 22
        }
      ]
    },
    {
      "cell_type": "code",
      "source": [
        "tuple_count=(2,5,\"hello\",\"dog\",3)\n",
        "tuple_count[3]=\"my\"\n",
        "tuple_count\n",
        "# tuple is immutable , we cannot make changes"
      ],
      "metadata": {
        "id": "R26HvhSQbS83"
      },
      "execution_count": null,
      "outputs": []
    },
    {
      "cell_type": "markdown",
      "source": [
        "Q6. Write a function to demonstrate the behavior of mutable and immutable arguments."
      ],
      "metadata": {
        "id": "rKbOt8tGOCkw"
      }
    },
    {
      "cell_type": "code",
      "source": [
        "def modify_list(lst):\n",
        "    lst.append(10)\n",
        "\n",
        "def modify_string(s):\n",
        "    s += \"universe\"\n",
        "\n",
        "my_list = [1, 4, 8]\n",
        "my_string = \"hello\"\n",
        "\n",
        "modify_list(my_list)\n",
        "print(\"Modified list:\", my_list)\n",
        "\n",
        "modify_string(my_string)\n",
        "print(\"String after function call:\", my_string)"
      ],
      "metadata": {
        "id": "-_dzPo80WfyY"
      },
      "execution_count": null,
      "outputs": []
    },
    {
      "cell_type": "markdown",
      "source": [
        "Q7. Write a program that performs basic arithmetic operations on two user-input numbers."
      ],
      "metadata": {
        "id": "KQv8G6vsRaoJ"
      }
    },
    {
      "cell_type": "code",
      "source": [
        "num1= int(input(\"enter a number\"))\n",
        "num2=int(input(\"enter a number\"))\n",
        "result = num1 + num2\n",
        "result1 = num1 - num2\n",
        "result2 = num1 * num2\n",
        "result3 = num1 / num2\n",
        "print(f\"the additiom of two number is{result}\")\n",
        "print(f\"the substraction of two number is{result1}\")\n",
        "print(f\"the multiplication of two number is{result2}\")\n",
        "print(f\"the division of two number is{result3}\")"
      ],
      "metadata": {
        "colab": {
          "base_uri": "https://localhost:8080/"
        },
        "id": "5jEhN9DTdDIu",
        "outputId": "0429eb31-ad2f-4335-fa0b-8068339180e9"
      },
      "execution_count": null,
      "outputs": [
        {
          "output_type": "stream",
          "name": "stdout",
          "text": [
            "enter a number 4\n",
            "enter a number8\n",
            "the additiom of two number is12\n",
            "the substraction of two number is-4\n",
            "the multiplication of two number is32\n",
            "the division of two number is0.5\n"
          ]
        }
      ]
    },
    {
      "cell_type": "markdown",
      "source": [
        "Q8. Write a program to demonstrate the use of logical operators"
      ],
      "metadata": {
        "id": "t3qK7O0QRuc5"
      }
    },
    {
      "cell_type": "code",
      "source": [
        "x= \"true\"\n",
        "y= \"false\"\n",
        "print(x and y)\n",
        "print (x or y)\n",
        "print(not x)"
      ],
      "metadata": {
        "colab": {
          "base_uri": "https://localhost:8080/"
        },
        "id": "LkdUlbOMfQLK",
        "outputId": "94d8beb8-f790-4362-b578-d38de58c530e"
      },
      "execution_count": null,
      "outputs": [
        {
          "output_type": "stream",
          "name": "stdout",
          "text": [
            "false\n",
            "true\n",
            "False\n"
          ]
        }
      ]
    },
    {
      "cell_type": "markdown",
      "source": [
        "Q9. Write a Python program to convert user input from string to integer, float, and boolean types."
      ],
      "metadata": {
        "id": "qNk394n_R9RR"
      }
    },
    {
      "cell_type": "code",
      "source": [
        "#from string to integer\n",
        "a = \"2\"\n",
        "print(int(a) )"
      ],
      "metadata": {
        "colab": {
          "base_uri": "https://localhost:8080/"
        },
        "id": "nQFUil8bglzq",
        "outputId": "2d2830ab-b041-4591-995d-aa6b0cb41ddd"
      },
      "execution_count": null,
      "outputs": [
        {
          "output_type": "stream",
          "name": "stdout",
          "text": [
            "2\n"
          ]
        }
      ]
    },
    {
      "cell_type": "code",
      "source": [
        "#from string to float\n",
        "a = \"4.35\"\n",
        "print(float(a))"
      ],
      "metadata": {
        "colab": {
          "base_uri": "https://localhost:8080/"
        },
        "id": "z6e1QV_jtAl7",
        "outputId": "774b1c5d-72d6-408e-eb23-ac3c00e3d963"
      },
      "execution_count": null,
      "outputs": [
        {
          "output_type": "stream",
          "name": "stdout",
          "text": [
            "4.35\n"
          ]
        }
      ]
    },
    {
      "cell_type": "code",
      "source": [
        "#from string to boolean\n",
        "a= \"True\"\n",
        "print(bool(a))"
      ],
      "metadata": {
        "colab": {
          "base_uri": "https://localhost:8080/"
        },
        "id": "bNuFIJ3LSILI",
        "outputId": "d63bf776-bd64-4b4c-efc4-dc0e8cc1baed"
      },
      "execution_count": null,
      "outputs": [
        {
          "output_type": "stream",
          "name": "stdout",
          "text": [
            "True\n"
          ]
        }
      ]
    },
    {
      "cell_type": "markdown",
      "source": [
        "Q10. Write code to demonstrate type casting with list elements."
      ],
      "metadata": {
        "id": "xyvx3XAqSUkW"
      }
    },
    {
      "cell_type": "code",
      "source": [
        "str_list = [\"1\", \"3\", \"6\"]\n",
        "int_list = list(map(int, str_list))\n",
        "print(\"List of integers:\", int_list)"
      ],
      "metadata": {
        "id": "8o_I9ukWWeVZ",
        "colab": {
          "base_uri": "https://localhost:8080/"
        },
        "outputId": "fd7e633d-090e-4698-ea42-94fb5f918228"
      },
      "execution_count": null,
      "outputs": [
        {
          "output_type": "stream",
          "name": "stdout",
          "text": [
            "List of integers: [1, 3, 6]\n"
          ]
        }
      ]
    },
    {
      "cell_type": "markdown",
      "source": [
        "Q11. Write a program that checks if a number is positive, negative, or zero."
      ],
      "metadata": {
        "id": "0FCiRfuoTOQh"
      }
    },
    {
      "cell_type": "code",
      "source": [
        "number= int(input(\"enter a number\"))\n",
        "if(number<0):\n",
        "  print(\"number is negative\")\n",
        "elif(number>0):\n",
        "  print(\"number is positive\")\n",
        "else:\n",
        "  print(\"number is zero\")"
      ],
      "metadata": {
        "colab": {
          "base_uri": "https://localhost:8080/"
        },
        "id": "DEuEHfK53bLU",
        "outputId": "561e6e8c-12a1-4dc0-f492-2dc42272297e"
      },
      "execution_count": null,
      "outputs": [
        {
          "output_type": "stream",
          "name": "stdout",
          "text": [
            "enter a number 6\n",
            "number is positive\n"
          ]
        }
      ]
    },
    {
      "cell_type": "markdown",
      "source": [
        "Q12. Write a for loop to print numbers from 1 to 10."
      ],
      "metadata": {
        "id": "eb3YIGx6TXG1"
      }
    },
    {
      "cell_type": "code",
      "source": [
        "for i in range (1,11):\n",
        "  print(i)"
      ],
      "metadata": {
        "colab": {
          "base_uri": "https://localhost:8080/"
        },
        "id": "1HyrN5w70jdI",
        "outputId": "8cc26def-046e-4bfd-939e-d3c32def4ee4"
      },
      "execution_count": null,
      "outputs": [
        {
          "output_type": "stream",
          "name": "stdout",
          "text": [
            "1\n",
            "2\n",
            "3\n",
            "4\n",
            "5\n",
            "6\n",
            "7\n",
            "8\n",
            "9\n",
            "10\n"
          ]
        }
      ]
    },
    {
      "cell_type": "markdown",
      "source": [
        "Q13. Write a Python program to find the sum of all even numbers between 1 and 50."
      ],
      "metadata": {
        "id": "DxU1aZZOTd30"
      }
    },
    {
      "cell_type": "code",
      "source": [
        "even_sum=0\n",
        "for num in range(1,51):\n",
        "  if num % 2 == 0:\n",
        "    even_sum += num\n",
        "print(f\"the sum of even number is {even_sum}\")\n"
      ],
      "metadata": {
        "colab": {
          "base_uri": "https://localhost:8080/"
        },
        "id": "5vi9_xw06Suw",
        "outputId": "5e2a3cc0-f1dd-4cf6-e058-5a0970058305"
      },
      "execution_count": null,
      "outputs": [
        {
          "output_type": "stream",
          "name": "stdout",
          "text": [
            "the sum of even number is 650\n"
          ]
        }
      ]
    },
    {
      "cell_type": "markdown",
      "source": [
        "Q14. Write a program to reverse a string using a while loop."
      ],
      "metadata": {
        "id": "7RRRDpmsTrjz"
      }
    },
    {
      "cell_type": "code",
      "source": [
        "word = \"hello\"\n",
        "i = len(word)- 1\n",
        "reverse=\"\"\n",
        "while i>=0 :\n",
        "  reverse += word[i]\n",
        "  i -= 1\n",
        "print(reverse)"
      ],
      "metadata": {
        "colab": {
          "base_uri": "https://localhost:8080/"
        },
        "id": "YxejCHc281-D",
        "outputId": "5b20aac7-d1fd-4ca5-ddfa-0a7e89c3dfb6"
      },
      "execution_count": null,
      "outputs": [
        {
          "output_type": "stream",
          "name": "stdout",
          "text": [
            "olleh\n"
          ]
        }
      ]
    },
    {
      "cell_type": "markdown",
      "source": [
        "Q15. Write a Python program to calculate the factorial of a number provided by the user using a while loop.\n"
      ],
      "metadata": {
        "id": "tZ-mFAPMUCkA"
      }
    },
    {
      "cell_type": "code",
      "source": [
        "number = int(input(\"enter a number\"))\n",
        "factorial = 1\n",
        "while number> 0:\n",
        "  factorial = factorial * number\n",
        "  number = number - 1\n",
        "print(\"fact of the given number is\", factorial)"
      ],
      "metadata": {
        "colab": {
          "base_uri": "https://localhost:8080/"
        },
        "id": "fFampcieA9uS",
        "outputId": "c2c89b74-6162-4f72-bd05-a3394c30ceb9"
      },
      "execution_count": null,
      "outputs": [
        {
          "output_type": "stream",
          "name": "stdout",
          "text": [
            "enter a number 3\n",
            "fact of the given number is 6\n"
          ]
        }
      ]
    }
  ]
}